{
 "cells": [
  {
   "cell_type": "code",
   "execution_count": 1,
   "id": "73d6641d-207f-41c6-b498-1bf7539c1ccc",
   "metadata": {},
   "outputs": [],
   "source": [
    "import pandas as pd\n",
    "\n",
    "#import csv files\n",
    "countries=pd.read_csv('data/countries.csv')\n",
    "persons=pd.read_csv('data/persons.csv')\n",
    "\n",
    "#merge\n",
    "dftot=pd.merge(persons,countries,on='id',how='right')"
   ]
  },
  {
   "cell_type": "code",
   "execution_count": 11,
   "id": "4d1fb145-4581-4f77-842f-53c060b4f8bb",
   "metadata": {},
   "outputs": [],
   "source": [
    "dftot=dftot.set_index(dftot.id)\n",
    "\n",
    "dftot=dftot.dropna()\n",
    "\n",
    "dftot.drop(columns='id')\n",
    "dftot.drop(columns='person_id')"
   ]
  },
  {
   "cell_type": "code",
   "execution_count": 17,
   "id": "0e675d04-0aa8-42b6-9820-faf5a23b7482",
   "metadata": {},
   "outputs": [],
   "source": [
    "#output csv unico\n",
    "dftot.to_csv('people.csv')"
   ]
  },
  {
   "cell_type": "code",
   "execution_count": null,
   "id": "7b49376f-54b1-4fc1-a082-48a6c33ec6e7",
   "metadata": {},
   "outputs": [],
   "source": []
  }
 ],
 "metadata": {
  "kernelspec": {
   "display_name": "Python 3 (ipykernel)",
   "language": "python",
   "name": "python3"
  },
  "language_info": {
   "codemirror_mode": {
    "name": "ipython",
    "version": 3
   },
   "file_extension": ".py",
   "mimetype": "text/x-python",
   "name": "python",
   "nbconvert_exporter": "python",
   "pygments_lexer": "ipython3",
   "version": "3.9.7"
  }
 },
 "nbformat": 4,
 "nbformat_minor": 5
}
