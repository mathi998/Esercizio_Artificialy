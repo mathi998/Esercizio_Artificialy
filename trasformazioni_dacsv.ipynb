{
 "cells": [
  {
   "cell_type": "code",
   "execution_count": 1,
   "id": "1b129efd-e63a-4f8f-9a60-bb26f3149705",
   "metadata": {},
   "outputs": [],
   "source": [
    "import pandas as pd"
   ]
  },
  {
   "cell_type": "code",
   "execution_count": 2,
   "id": "f6995cfb-2016-49d0-a1a4-b414ee500d1c",
   "metadata": {},
   "outputs": [],
   "source": [
    "filecsv=pd.read_csv('people.csv')\n"
   ]
  },
  {
   "cell_type": "code",
   "execution_count": 4,
   "id": "ad9dbe84-700a-4af6-bba1-6fa6407ded06",
   "metadata": {},
   "outputs": [],
   "source": [
    "# da  csv a xml\n",
    "with open('people.xml', 'w') as myfile: \n",
    "  myfile.write(filecsv.to_xml())\n",
    "myfile.close()"
   ]
  },
  {
   "cell_type": "code",
   "execution_count": 5,
   "id": "4c0cc3dd-a89a-4833-ba34-853d0167305a",
   "metadata": {},
   "outputs": [],
   "source": [
    "# da csv a json\n",
    "with open('people.json', 'w') as myfile2: \n",
    "  myfile2.write(filecsv.to_json())\n",
    "myfile.close()\n"
   ]
  },
  {
   "cell_type": "code",
   "execution_count": null,
   "id": "336cc144-22e9-4358-85fd-13b38040ca43",
   "metadata": {},
   "outputs": [],
   "source": []
  }
 ],
 "metadata": {
  "kernelspec": {
   "display_name": "Python 3 (ipykernel)",
   "language": "python",
   "name": "python3"
  },
  "language_info": {
   "codemirror_mode": {
    "name": "ipython",
    "version": 3
   },
   "file_extension": ".py",
   "mimetype": "text/x-python",
   "name": "python",
   "nbconvert_exporter": "python",
   "pygments_lexer": "ipython3",
   "version": "3.9.7"
  }
 },
 "nbformat": 4,
 "nbformat_minor": 5
}
